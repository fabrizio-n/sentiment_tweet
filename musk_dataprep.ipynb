{
 "cells": [
  {
   "cell_type": "code",
   "execution_count": 26,
   "metadata": {},
   "outputs": [],
   "source": [
    "import pandas as pd\n",
    "import string\n",
    "import re"
   ]
  },
  {
   "cell_type": "code",
   "execution_count": 12,
   "metadata": {},
   "outputs": [],
   "source": [
    "!twarc2 flatten '/home/fabrizio/results.jsonl' > '/home/fabrizio/results_flat.jsonl'"
   ]
  },
  {
   "cell_type": "code",
   "execution_count": 13,
   "metadata": {},
   "outputs": [],
   "source": [
    "!twarc2 csv '/home/fabrizio/results_flat.jsonl' > '/home/fabrizio/tweets_musk.csv'"
   ]
  },
  {
   "cell_type": "code",
   "execution_count": 33,
   "metadata": {},
   "outputs": [
    {
     "name": "stderr",
     "output_type": "stream",
     "text": [
      "/tmp/ipykernel_73796/3157322269.py:1: DtypeWarning: Columns (24,25,62,63,64) have mixed types. Specify dtype option on import or set low_memory=False.\n",
      "  data = pd.read_csv('/home/fabrizio/tweets_musk.csv')\n"
     ]
    }
   ],
   "source": [
    "data = pd.read_csv('/home/fabrizio/tweets_musk.csv')"
   ]
  },
  {
   "cell_type": "code",
   "execution_count": 34,
   "metadata": {},
   "outputs": [
    {
     "data": {
      "text/html": [
       "<div>\n",
       "<style scoped>\n",
       "    .dataframe tbody tr th:only-of-type {\n",
       "        vertical-align: middle;\n",
       "    }\n",
       "\n",
       "    .dataframe tbody tr th {\n",
       "        vertical-align: top;\n",
       "    }\n",
       "\n",
       "    .dataframe thead th {\n",
       "        text-align: right;\n",
       "    }\n",
       "</style>\n",
       "<table border=\"1\" class=\"dataframe\">\n",
       "  <thead>\n",
       "    <tr style=\"text-align: right;\">\n",
       "      <th></th>\n",
       "      <th>text</th>\n",
       "    </tr>\n",
       "  </thead>\n",
       "  <tbody>\n",
       "    <tr>\n",
       "      <th>0</th>\n",
       "      <td>@elonmusk Nobody will ever convince me he's no...</td>\n",
       "    </tr>\n",
       "    <tr>\n",
       "      <th>3</th>\n",
       "      <td>Evidence of one of the biggest political scand...</td>\n",
       "    </tr>\n",
       "    <tr>\n",
       "      <th>4</th>\n",
       "      <td>@littledude88888 @elonmusk Christ? a lame bast...</td>\n",
       "    </tr>\n",
       "    <tr>\n",
       "      <th>5</th>\n",
       "      <td>@elonmusk Merry Squidmas from the #SquidGrowAr...</td>\n",
       "    </tr>\n",
       "    <tr>\n",
       "      <th>6</th>\n",
       "      <td>@elonmusk A pair of rats.</td>\n",
       "    </tr>\n",
       "    <tr>\n",
       "      <th>...</th>\n",
       "      <td>...</td>\n",
       "    </tr>\n",
       "    <tr>\n",
       "      <th>200002</th>\n",
       "      <td>One of the best things @elonmusk did for Canad...</td>\n",
       "    </tr>\n",
       "    <tr>\n",
       "      <th>200004</th>\n",
       "      <td>Ways Twitter has changed since @elonmusk took ...</td>\n",
       "    </tr>\n",
       "    <tr>\n",
       "      <th>200005</th>\n",
       "      <td>@elonmusk Indeed https://t.co/ErDODa5rJp</td>\n",
       "    </tr>\n",
       "    <tr>\n",
       "      <th>200006</th>\n",
       "      <td>This is getting boring… release the whole thin...</td>\n",
       "    </tr>\n",
       "    <tr>\n",
       "      <th>200007</th>\n",
       "      <td>@Rafeus1 @elonmusk that's an evil idea, i gues...</td>\n",
       "    </tr>\n",
       "  </tbody>\n",
       "</table>\n",
       "<p>141205 rows × 1 columns</p>\n",
       "</div>"
      ],
      "text/plain": [
       "                                                     text\n",
       "0       @elonmusk Nobody will ever convince me he's no...\n",
       "3       Evidence of one of the biggest political scand...\n",
       "4       @littledude88888 @elonmusk Christ? a lame bast...\n",
       "5       @elonmusk Merry Squidmas from the #SquidGrowAr...\n",
       "6                               @elonmusk A pair of rats.\n",
       "...                                                   ...\n",
       "200002  One of the best things @elonmusk did for Canad...\n",
       "200004  Ways Twitter has changed since @elonmusk took ...\n",
       "200005           @elonmusk Indeed https://t.co/ErDODa5rJp\n",
       "200006  This is getting boring… release the whole thin...\n",
       "200007  @Rafeus1 @elonmusk that's an evil idea, i gues...\n",
       "\n",
       "[141205 rows x 1 columns]"
      ]
     },
     "execution_count": 34,
     "metadata": {},
     "output_type": "execute_result"
    }
   ],
   "source": [
    "data[data['lang'] == 'en'][['text']]"
   ]
  },
  {
   "cell_type": "code",
   "execution_count": 35,
   "metadata": {},
   "outputs": [],
   "source": [
    "data = data[data['lang'] == 'en'][['text']]"
   ]
  },
  {
   "cell_type": "code",
   "execution_count": 36,
   "metadata": {},
   "outputs": [
    {
     "data": {
      "text/plain": [
       "(141205, 1)"
      ]
     },
     "execution_count": 36,
     "metadata": {},
     "output_type": "execute_result"
    }
   ],
   "source": [
    "data.shape"
   ]
  },
  {
   "cell_type": "code",
   "execution_count": 37,
   "metadata": {},
   "outputs": [],
   "source": [
    "data.to_csv('/home/fabrizio/tweets_musk_text.csv', index=False)"
   ]
  },
  {
   "cell_type": "code",
   "execution_count": 38,
   "metadata": {},
   "outputs": [
    {
     "data": {
      "text/html": [
       "<div>\n",
       "<style scoped>\n",
       "    .dataframe tbody tr th:only-of-type {\n",
       "        vertical-align: middle;\n",
       "    }\n",
       "\n",
       "    .dataframe tbody tr th {\n",
       "        vertical-align: top;\n",
       "    }\n",
       "\n",
       "    .dataframe thead th {\n",
       "        text-align: right;\n",
       "    }\n",
       "</style>\n",
       "<table border=\"1\" class=\"dataframe\">\n",
       "  <thead>\n",
       "    <tr style=\"text-align: right;\">\n",
       "      <th></th>\n",
       "      <th>text</th>\n",
       "    </tr>\n",
       "  </thead>\n",
       "  <tbody>\n",
       "    <tr>\n",
       "      <th>0</th>\n",
       "      <td>@elonmusk Nobody will ever convince me he's no...</td>\n",
       "    </tr>\n",
       "    <tr>\n",
       "      <th>1</th>\n",
       "      <td>Evidence of one of the biggest political scand...</td>\n",
       "    </tr>\n",
       "    <tr>\n",
       "      <th>2</th>\n",
       "      <td>@littledude88888 @elonmusk Christ? a lame bast...</td>\n",
       "    </tr>\n",
       "    <tr>\n",
       "      <th>3</th>\n",
       "      <td>@elonmusk Merry Squidmas from the #SquidGrowAr...</td>\n",
       "    </tr>\n",
       "    <tr>\n",
       "      <th>4</th>\n",
       "      <td>@elonmusk A pair of rats.</td>\n",
       "    </tr>\n",
       "    <tr>\n",
       "      <th>...</th>\n",
       "      <td>...</td>\n",
       "    </tr>\n",
       "    <tr>\n",
       "      <th>141200</th>\n",
       "      <td>One of the best things @elonmusk did for Canad...</td>\n",
       "    </tr>\n",
       "    <tr>\n",
       "      <th>141201</th>\n",
       "      <td>Ways Twitter has changed since @elonmusk took ...</td>\n",
       "    </tr>\n",
       "    <tr>\n",
       "      <th>141202</th>\n",
       "      <td>@elonmusk Indeed https://t.co/ErDODa5rJp</td>\n",
       "    </tr>\n",
       "    <tr>\n",
       "      <th>141203</th>\n",
       "      <td>This is getting boring… release the whole thin...</td>\n",
       "    </tr>\n",
       "    <tr>\n",
       "      <th>141204</th>\n",
       "      <td>@Rafeus1 @elonmusk that's an evil idea, i gues...</td>\n",
       "    </tr>\n",
       "  </tbody>\n",
       "</table>\n",
       "<p>141205 rows × 1 columns</p>\n",
       "</div>"
      ],
      "text/plain": [
       "                                                     text\n",
       "0       @elonmusk Nobody will ever convince me he's no...\n",
       "1       Evidence of one of the biggest political scand...\n",
       "2       @littledude88888 @elonmusk Christ? a lame bast...\n",
       "3       @elonmusk Merry Squidmas from the #SquidGrowAr...\n",
       "4                               @elonmusk A pair of rats.\n",
       "...                                                   ...\n",
       "141200  One of the best things @elonmusk did for Canad...\n",
       "141201  Ways Twitter has changed since @elonmusk took ...\n",
       "141202           @elonmusk Indeed https://t.co/ErDODa5rJp\n",
       "141203  This is getting boring… release the whole thin...\n",
       "141204  @Rafeus1 @elonmusk that's an evil idea, i gues...\n",
       "\n",
       "[141205 rows x 1 columns]"
      ]
     },
     "execution_count": 38,
     "metadata": {},
     "output_type": "execute_result"
    }
   ],
   "source": [
    "data = pd.read_csv('/home/fabrizio/tweets_musk_text.csv')\n",
    "data"
   ]
  },
  {
   "cell_type": "code",
   "execution_count": 45,
   "metadata": {},
   "outputs": [],
   "source": [
    "def preprocess(path: str):\n",
    "\n",
    "  # Load data from .csv file\n",
    "  data = pd.read_csv(path)\n",
    "\n",
    "  # Drop NA and empty strings\n",
    "  data = data.dropna(inplace=False)\n",
    "\n",
    "  # Filter only ASCII characters\n",
    "  data['text'] = data['text'].apply(lambda x: x.encode(\"ascii\", \"ignore\").decode())\n",
    "\n",
    "  # Lower casing text\n",
    "  data['text'] = data['text'].apply(str.lower)\n",
    "\n",
    "  # Remove URLs from text\n",
    "  data['text'] = data['text'].apply(lambda x: re.sub(\n",
    "      r\"http\\S+|www\\S+|https\\S+|([a-z0-9-]+\\.)+com|([a-z0-9-]+\\.)+org|([a-z0-9-]+\\.)+net\", \"\", x, flags=re.MULTILINE))\n",
    "  \n",
    "  # Remove user mentions @ and hashtags # from text\n",
    "  data['text'] = data['text'].apply(lambda x: re.sub(\n",
    "      r\"\\@\\w+|\\#\", \"\", x))\n",
    "  \n",
    "  # Remove punctuation\n",
    "  data['text'] = data['text'].apply(lambda x: x.translate(\n",
    "      str.maketrans('', '', string.punctuation)))\n",
    "\n",
    "  # Remove blank text\n",
    "  blanks = []  \n",
    "  for index, text in data.itertuples():\n",
    "      if type(text)==str:            \n",
    "          if text.isspace():     \n",
    "              blanks.append(index)     \n",
    "  data.drop(blanks, inplace=True)\n",
    "\n",
    "  # Remove multiple, leading and trailing spaces\n",
    "  data['text'] = data['text'].apply(lambda x: re.sub(\" +\", \" \", x))\n",
    "  data['text'] = data['text'].str.strip()\n",
    "\n",
    "  # Add column containing length of text\n",
    "  data['text_len'] = data['text'].apply(lambda x: sum(len(y) for y in x.split()))\n",
    "\n",
    "  return data"
   ]
  },
  {
   "cell_type": "code",
   "execution_count": 50,
   "metadata": {},
   "outputs": [],
   "source": [
    "path = '/home/fabrizio/tweets_musk_text.csv'\n",
    "\n",
    "data = preprocess(path)"
   ]
  },
  {
   "cell_type": "code",
   "execution_count": 51,
   "metadata": {},
   "outputs": [
    {
     "data": {
      "text/html": [
       "<div>\n",
       "<style scoped>\n",
       "    .dataframe tbody tr th:only-of-type {\n",
       "        vertical-align: middle;\n",
       "    }\n",
       "\n",
       "    .dataframe tbody tr th {\n",
       "        vertical-align: top;\n",
       "    }\n",
       "\n",
       "    .dataframe thead th {\n",
       "        text-align: right;\n",
       "    }\n",
       "</style>\n",
       "<table border=\"1\" class=\"dataframe\">\n",
       "  <thead>\n",
       "    <tr style=\"text-align: right;\">\n",
       "      <th></th>\n",
       "      <th>text</th>\n",
       "      <th>text_len</th>\n",
       "    </tr>\n",
       "  </thead>\n",
       "  <tbody>\n",
       "    <tr>\n",
       "      <th>0</th>\n",
       "      <td>nobody will ever convince me hes not one of th...</td>\n",
       "      <td>66</td>\n",
       "    </tr>\n",
       "    <tr>\n",
       "      <th>1</th>\n",
       "      <td>evidence of one of the biggest political scand...</td>\n",
       "      <td>110</td>\n",
       "    </tr>\n",
       "    <tr>\n",
       "      <th>2</th>\n",
       "      <td>christ a lame bastard that was crucified long ...</td>\n",
       "      <td>177</td>\n",
       "    </tr>\n",
       "    <tr>\n",
       "      <th>3</th>\n",
       "      <td>merry squidmas from the squidgrowarmy squidgro...</td>\n",
       "      <td>118</td>\n",
       "    </tr>\n",
       "    <tr>\n",
       "      <th>4</th>\n",
       "      <td>a pair of rats</td>\n",
       "      <td>11</td>\n",
       "    </tr>\n",
       "    <tr>\n",
       "      <th>...</th>\n",
       "      <td>...</td>\n",
       "      <td>...</td>\n",
       "    </tr>\n",
       "    <tr>\n",
       "      <th>141200</th>\n",
       "      <td>one of the best things did for canadians was t...</td>\n",
       "      <td>200</td>\n",
       "    </tr>\n",
       "    <tr>\n",
       "      <th>141201</th>\n",
       "      <td>ways twitter has changed since took overnn les...</td>\n",
       "      <td>154</td>\n",
       "    </tr>\n",
       "    <tr>\n",
       "      <th>141202</th>\n",
       "      <td>indeed</td>\n",
       "      <td>6</td>\n",
       "    </tr>\n",
       "    <tr>\n",
       "      <th>141203</th>\n",
       "      <td>this is getting boring release the whole thing...</td>\n",
       "      <td>46</td>\n",
       "    </tr>\n",
       "    <tr>\n",
       "      <th>141204</th>\n",
       "      <td>thats an evil idea i guess you are jew</td>\n",
       "      <td>30</td>\n",
       "    </tr>\n",
       "  </tbody>\n",
       "</table>\n",
       "<p>141192 rows × 2 columns</p>\n",
       "</div>"
      ],
      "text/plain": [
       "                                                     text  text_len\n",
       "0       nobody will ever convince me hes not one of th...        66\n",
       "1       evidence of one of the biggest political scand...       110\n",
       "2       christ a lame bastard that was crucified long ...       177\n",
       "3       merry squidmas from the squidgrowarmy squidgro...       118\n",
       "4                                          a pair of rats        11\n",
       "...                                                   ...       ...\n",
       "141200  one of the best things did for canadians was t...       200\n",
       "141201  ways twitter has changed since took overnn les...       154\n",
       "141202                                             indeed         6\n",
       "141203  this is getting boring release the whole thing...        46\n",
       "141204             thats an evil idea i guess you are jew        30\n",
       "\n",
       "[141192 rows x 2 columns]"
      ]
     },
     "execution_count": 51,
     "metadata": {},
     "output_type": "execute_result"
    }
   ],
   "source": [
    "data"
   ]
  },
  {
   "cell_type": "code",
   "execution_count": 52,
   "metadata": {},
   "outputs": [],
   "source": [
    "data.to_csv('/home/fabrizio/tw_musk_clean_text.csv', index=False)"
   ]
  }
 ],
 "metadata": {
  "kernelspec": {
   "display_name": "tdig",
   "language": "python",
   "name": "python3"
  },
  "language_info": {
   "codemirror_mode": {
    "name": "ipython",
    "version": 3
   },
   "file_extension": ".py",
   "mimetype": "text/x-python",
   "name": "python",
   "nbconvert_exporter": "python",
   "pygments_lexer": "ipython3",
   "version": "3.9.15"
  },
  "orig_nbformat": 4,
  "vscode": {
   "interpreter": {
    "hash": "7255e4703d55f3bf0b50f7e1788c18b2a63344474ba72c77398e7b5e740ad523"
   }
  }
 },
 "nbformat": 4,
 "nbformat_minor": 2
}
